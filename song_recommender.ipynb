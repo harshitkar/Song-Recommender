{
 "cells": [
  {
   "cell_type": "code",
   "execution_count": null,
   "id": "637ab585-b040-4d40-b79f-f27ca37510c5",
   "metadata": {},
   "outputs": [],
   "source": [
    "import tkinter as tk\n",
    "from tkinter import ttk\n",
    "import pandas as pd\n",
    "import numpy as np\n",
    "from sklearn.cluster import KMeans\n",
    "from tkinter import messagebox"
   ]
  },
  {
   "cell_type": "code",
   "execution_count": null,
   "id": "ee791e21-5fd0-47f3-ac70-6fe8ac633510",
   "metadata": {},
   "outputs": [],
   "source": [
    "# Loading CSV file\n",
    "data = pd.read_csv('../data/spotify-2023.csv', encoding='latin1')"
   ]
  },
  {
   "cell_type": "code",
   "execution_count": null,
   "id": "e994d057-2fa5-4d80-ad33-290a914e6f35",
   "metadata": {},
   "outputs": [],
   "source": [
    "# Preprocessing\n",
    "data['streams'] = pd.to_numeric(data['streams'], errors='coerce')\n",
    "data['danceability_%'] = pd.to_numeric(data['danceability_%'], errors='coerce')\n",
    "data['energy_%'] = pd.to_numeric(data['energy_%'], errors='coerce')\n",
    "data['acousticness_%'] = pd.to_numeric(data['acousticness_%'], errors='coerce')\n",
    "data['instrumentalness_%'] = pd.to_numeric(data['instrumentalness_%'], errors='coerce')\n",
    "data = data.dropna(subset=['streams', 'danceability_%', 'energy_%', 'acousticness_%', 'instrumentalness_%'])"
   ]
  },
  {
   "cell_type": "code",
   "execution_count": null,
   "id": "54411479-30ff-4c67-8f21-8f78c28d4eca",
   "metadata": {},
   "outputs": [],
   "source": [
    "# Window initialization\n",
    "bg_color = '#121212'\n",
    "frame_bg = '#1f1f1f'\n",
    "accent_color = '#03dac6'\n",
    "text_color = '#ffffff'\n",
    "\n",
    "app = tk.Tk()\n",
    "app.title(\"Music Song Recommender\")\n",
    "app.geometry('1200x600')\n",
    "\n",
    "style = ttk.Style()\n",
    "style.theme_use('clam')\n",
    "style.configure('TLabel', background=bg_color, foreground=text_color)\n",
    "style.configure('TButton', background=frame_bg, foreground=text_color)\n",
    "style.configure('Treeview', background=bg_color, foreground=text_color, fieldbackground=bg_color)\n",
    "style.map('Treeview', background=[('selected', accent_color)])\n",
    "\n",
    "paned_window = ttk.PanedWindow(app, orient=tk.HORIZONTAL)\n",
    "paned_window.pack(fill=tk.BOTH, expand=True)\n",
    "\n",
    "left_frame = tk.Frame(paned_window, bg=bg_color)\n",
    "right_frame = tk.Frame(paned_window, bg=bg_color)\n",
    "paned_window.add(left_frame)\n",
    "paned_window.add(right_frame)"
   ]
  },
  {
   "cell_type": "code",
   "execution_count": null,
   "id": "4bf4598a-5297-4705-a7ab-d4189084b26f",
   "metadata": {},
   "outputs": [],
   "source": [
    "# User Interface elements and their functions\n",
    "song_table = ttk.Treeview(right_frame, columns=(\"track_name\", \"artist\", \"streams\", \"danceability\", \"energy\", \"acousticness\", \"instrumentalness\", \"cluster\"), show=\"headings\")\n",
    "for col in song_table[\"columns\"]:\n",
    "    song_table.heading(col, text=col.title())\n",
    "song_table.pack(fill=tk.BOTH, expand=True, padx=20, pady=20)\n",
    "\n",
    "def create_slider(label_text, variable, avg_value):\n",
    "    frame = tk.Frame(left_frame, bg=bg_color)\n",
    "    frame.pack(pady=5)\n",
    "    ttk.Label(frame, text=label_text).pack(side=tk.LEFT)\n",
    "    \n",
    "    slider = ttk.Scale(frame, from_=0, to=100, orient=\"horizontal\", command=lambda val: update_value(variable, slider, entry))\n",
    "    slider.set(avg_value)\n",
    "    slider.pack(side=tk.LEFT, padx=10)\n",
    "    \n",
    "    entry = ttk.Entry(frame, width=5, textvariable=variable)\n",
    "    entry.pack(side=tk.LEFT)\n",
    "    entry.bind(\"<Return>\", lambda event: update_slider_from_entry(variable, slider))\n",
    "\n",
    "    variable.set(avg_value)\n",
    "\n",
    "    return slider\n",
    "    \n",
    "def update_value(variable, slider, entry):\n",
    "    value = float(slider.get())\n",
    "    variable.set(value)\n",
    "    entry.delete(0, tk.END)\n",
    "    entry.insert(0, f\"{value:.2f}\")\n",
    "    \n",
    "def update_slider_from_entry(variable, slider):\n",
    "    try:\n",
    "        value = float(variable.get())\n",
    "        if 0 <= value <= 100:\n",
    "            slider.set(value)\n",
    "        else:\n",
    "            raise ValueError(\"Value out of bounds\")\n",
    "    except ValueError:\n",
    "        variable.set(slider.get())\n",
    "\n",
    "danceability_var = tk.DoubleVar()\n",
    "energy_var = tk.DoubleVar()\n",
    "acousticness_var = tk.DoubleVar()\n",
    "instrumentalness_var = tk.DoubleVar()\n",
    "\n",
    "create_slider(\"Danceability (%)\", danceability_var, data['danceability_%'].mean())\n",
    "create_slider(\"Energy (%)\", energy_var, data['energy_%'].mean())\n",
    "create_slider(\"Acousticness (%)\", acousticness_var, data['acousticness_%'].mean())\n",
    "create_slider(\"Instrumentalness (%)\", instrumentalness_var, data['instrumentalness_%'].mean())\n",
    "\n",
    "danceability_check = tk.BooleanVar(value=True)\n",
    "energy_check = tk.BooleanVar(value=True)\n",
    "acousticness_check = tk.BooleanVar(value=True)\n",
    "instrumentalness_check = tk.BooleanVar(value=True)\n",
    "\n",
    "ttk.Checkbutton(left_frame, text=\"Consider Danceability\", variable=danceability_check).pack(pady=5)\n",
    "ttk.Checkbutton(left_frame, text=\"Consider Energy\", variable=energy_check).pack(pady=5)\n",
    "ttk.Checkbutton(left_frame, text=\"Consider Acousticness\", variable=acousticness_check).pack(pady=5)\n",
    "ttk.Checkbutton(left_frame, text=\"Consider Instrumentalness\", variable=instrumentalness_check).pack(pady=5)"
   ]
  },
  {
   "cell_type": "code",
   "execution_count": 1,
   "id": "03147712-d106-47f3-b032-0cf06eac9739",
   "metadata": {},
   "outputs": [],
   "source": [
    "def display_top_songs():\n",
    "    top_songs = data.nlargest(10, 'streams')\n",
    "    song_table.delete(*song_table.get_children())\n",
    "    for _, row in top_songs.iterrows():\n",
    "        song_table.insert('', 'end', values=(\n",
    "            row['track_name'], row['artist(s)_name'], row['streams'],\n",
    "            row['danceability_%'], row['energy_%'], row['acousticness_%'], row['instrumentalness_%'], \"-\"\n",
    "        ))"
   ]
  },
  {
   "cell_type": "code",
   "execution_count": null,
   "id": "ea8b019f-7dbc-49ff-95e4-0cb882febe07",
   "metadata": {},
   "outputs": [],
   "source": [
    "def determine_optimal_clusters(data):\n",
    "    features = data[['danceability_%', 'energy_%', 'acousticness_%', 'instrumentalness_%']]\n",
    "    inertia_values = [KMeans(n_clusters=k, random_state=42).fit(features).inertia_ for k in range(1, 11)]\n",
    "    return inertia_values.index(min(inertia_values[2:], key=lambda x: abs(x - inertia_values[1]))) + 2"
   ]
  },
  {
   "cell_type": "code",
   "execution_count": null,
   "id": "ae94215c-9b65-4edd-af79-559161afcd4d",
   "metadata": {},
   "outputs": [],
   "source": [
    "def update_clusters():\n",
    "    conditions = []\n",
    "    \n",
    "    if danceability_check.get():\n",
    "        conditions.append(data['danceability_%'] >= danceability_var.get())\n",
    "    if energy_check.get():\n",
    "        conditions.append(data['energy_%'] >= energy_var.get())\n",
    "    if acousticness_check.get():\n",
    "        conditions.append(data['acousticness_%'] >= acousticness_var.get())\n",
    "    if instrumentalness_check.get():\n",
    "        conditions.append(data['instrumentalness_%'] >= instrumentalness_var.get())\n",
    "\n",
    "    filtered_data = data[np.logical_and.reduce(conditions)] if conditions else data\n",
    "\n",
    "    if filtered_data.empty:\n",
    "        song_table.delete(*song_table.get_children())\n",
    "        messagebox.showinfo(\"No Songs Found\", \"No songs match the selected criteria.\")\n",
    "        return\n",
    "\n",
    "    optimal_clusters = determine_optimal_clusters(filtered_data)\n",
    "    features = filtered_data[['danceability_%', 'energy_%', 'acousticness_%', 'instrumentalness_%']]\n",
    "    kmeans = KMeans(n_clusters=optimal_clusters, random_state=42)\n",
    "    filtered_data['cluster'] = kmeans.fit_predict(features)\n",
    "\n",
    "    most_common_cluster = filtered_data['cluster'].mode()[0]\n",
    "    clustered_data = filtered_data[filtered_data['cluster'] == most_common_cluster]\n",
    "\n",
    "    if clustered_data.empty:\n",
    "        song_table.delete(*song_table.get_children())\n",
    "        messagebox.showinfo(\"No Songs Found\", \"No songs found in the most common cluster.\")        return\n",
    "\n",
    "    song_table.delete(*song_table.get_children())\n",
    "    for _, row in clustered_data.iterrows():\n",
    "        song_table.insert('', 'end', values=(\n",
    "            row['track_name'], row['artist(s)_name'], row['streams'],\n",
    "            row['danceability_%'], row['energy_%'], row['acousticness_%'], row['instrumentalness_%'], row['cluster']\n",
    "        ))"
   ]
  },
  {
   "cell_type": "code",
   "execution_count": null,
   "id": "f7102e03-fa9d-47e1-be1c-6274e53d2794",
   "metadata": {},
   "outputs": [],
   "source": [
    "# Buttons\n",
    "ttk.Button(left_frame, text=\"Update\", command=update_clusters).pack(pady=10)\n",
    "ttk.Button(left_frame, text=\"Show Top 10 Songs\", command=display_top_songs).pack(pady=10)"
   ]
  },
  {
   "cell_type": "code",
   "execution_count": null,
   "id": "9690abc8-477b-4e6e-aac0-b14200e59807",
   "metadata": {},
   "outputs": [],
   "source": [
    "# Start with Top 10 Songs\n",
    "display_top_songs()"
   ]
  },
  {
   "cell_type": "code",
   "execution_count": null,
   "id": "4118abea-9eef-4b92-9c33-7872cfe38fa8",
   "metadata": {},
   "outputs": [],
   "source": [
    "# Start the Tkinter mainloop\n",
    "app.mainloop()"
   ]
  }
 ],
 "metadata": {
  "kernelspec": {
   "display_name": "Python 3 (ipykernel)",
   "language": "python",
   "name": "python3"
  },
  "language_info": {
   "codemirror_mode": {
    "name": "ipython",
    "version": 3
   },
   "file_extension": ".py",
   "mimetype": "text/x-python",
   "name": "python",
   "nbconvert_exporter": "python",
   "pygments_lexer": "ipython3",
   "version": "3.12.7"
  }
 },
 "nbformat": 4,
 "nbformat_minor": 5
}
